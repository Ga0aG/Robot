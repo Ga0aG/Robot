{
 "cells": [
  {
   "cell_type": "code",
   "execution_count": 2,
   "metadata": {},
   "outputs": [],
   "source": [
    "\"\"\"\n",
    "Created on Thu Feb 28 15:00:05 2019\n",
    "\n",
    "@author: ga\n",
    "\"\"\"\n",
    "import numpy as np \n",
    "import random\n",
    "import matplotlib.pyplot as plt\n",
    "import matplotlib.patches as pa\n",
    "from matplotlib import animation\n",
    "from math import sqrt"
   ]
  },
  {
   "cell_type": "code",
   "execution_count": 10,
   "metadata": {},
   "outputs": [],
   "source": [
    "def init_():\n",
    "    ax.set_xlim(0,6)\n",
    "    ax.set_ylim(0,6)\n",
    "    rect1 = pa.Rectangle((1.5,2),2,0.3,fill=True,edgecolor='black')\n",
    "    rect2 = pa.Rectangle((1.5,3.7),2,0.3,fill=True,edgecolor='black')\n",
    "    rect3 = pa.Rectangle((3.2,2.3),0.3,1.4,fill=True,edgecolor='black')\n",
    "    circle = pa.Circle((5,3),0.2,fill=True,color='y')\n",
    "    for rect in [rect1,rect2,rect3,circle]:\n",
    "        ax.add_patch(rect)\n",
    "    plt.title('rrt')\n",
    "    plt.axis('off')"
   ]
  },
  {
   "cell_type": "code",
   "execution_count": 4,
   "metadata": {},
   "outputs": [],
   "source": [
    "# check wether pnew is in the obstacle\n",
    "def check(p):\n",
    "    if 1.5<=p[0]<=3.5 and 2<=p[1]<=4:\n",
    "        if 1.5<p[0]<3.2 and 2.3<p[1]<3.7:\n",
    "            return True\n",
    "        else:\n",
    "            return False\n",
    "    else:\n",
    "        return True"
   ]
  },
  {
   "cell_type": "code",
   "execution_count": 5,
   "metadata": {},
   "outputs": [],
   "source": [
    "# generate the rrt\n",
    "def dis(p1,p2):\n",
    "    return sqrt((p1[0]-p2[0])**2+(p1[1]-p2[1])**2)\n",
    "def gen_route():\n",
    "    tol = 0.2\n",
    "    step = 0.2\n",
    "    flag = True\n",
    "    while flag:\n",
    "        while True:\n",
    "            prand = [random.random()*6,random.random()*6]\n",
    "            pnear = line[1][np.argmin([dis(p,prand) for p in line[1]])]\n",
    "            dnear = dis(pnear,prand)\n",
    "            pnew = [(step*prand[0]+(dnear-step)*pnear[0])/dnear,\n",
    "                    (step*prand[1]+(dnear-step)*pnear[1])/dnear]\n",
    "            if check(pnew):\n",
    "                break\n",
    "        line[0].append(pnear)\n",
    "        line[1].append(pnew)\n",
    "        if dis(pnew,[5,3])<=tol:            \n",
    "            flag = False"
   ]
  },
  {
   "cell_type": "code",
   "execution_count": 6,
   "metadata": {},
   "outputs": [],
   "source": [
    "# select the final result\n",
    "def choose_route():\n",
    "    route = []\n",
    "    begin = line[0][-1]\n",
    "    route.append(line[1][-1])\n",
    "    while True:\n",
    "        route.append(begin)\n",
    "        if begin == [2,3]:\n",
    "            break\n",
    "        i = line[1].index(begin)\n",
    "        begin = line[0][i]\n",
    "    return route"
   ]
  },
  {
   "cell_type": "code",
   "execution_count": 7,
   "metadata": {},
   "outputs": [],
   "source": [
    "def update_dot_glo(newd):\n",
    "    dot.set_data(newd[0], newd[1])\n",
    "    return dot,"
   ]
  },
  {
   "cell_type": "code",
   "execution_count": 13,
   "metadata": {},
   "outputs": [
    {
     "data": {
      "image/png": "[encoded data removed]",
      "text/plain": [
       "<Figure size 432x432 with 1 Axes>"
      ]
     },
     "metadata": {
      "needs_background": "light"
     },
     "output_type": "display_data"
    }
   ],
   "source": [
    "fig, ax = plt.subplots(figsize=(6,6))\n",
    "dot, = ax.plot([], [], 'gs',ms=12)\n",
    "init_()\n",
    "line = [[[2,3]],[[2,3]]]\n",
    "gen_route()\n",
    "for i in range(len(line[0])):\n",
    "    plt.plot([line[0][i][0],line[1][i][0]],[line[0][i][1],line[1][i][1]],c='r')\n",
    "\n",
    "route = choose_route()\n",
    "ani = animation.FuncAnimation(fig, update_dot_glo, \n",
    "                              frames = route[::-1], interval =200)#, init_func=init)\n",
    "ani.save('rrt.gif', writer='imagemagick', fps=30)\n",
    "plt.show()"
   ]
  }
 ],
 "metadata": {
  "kernelspec": {
   "display_name": "Python 3",
   "language": "python",
   "name": "python3"
  },
  "language_info": {
   "codemirror_mode": {
    "name": "ipython",
    "version": 3
   },
   "file_extension": ".py",
   "mimetype": "text/x-python",
   "name": "python",
   "nbconvert_exporter": "python",
   "pygments_lexer": "ipython3",
   "version": "3.6.7"
  }
 },
 "nbformat": 4,
 "nbformat_minor": 2
}
